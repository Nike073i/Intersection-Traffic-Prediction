{
 "cells": [
  {
   "cell_type": "code",
   "execution_count": 2,
   "metadata": {},
   "outputs": [
    {
     "name": "stdout",
     "output_type": "stream",
     "text": [
      "Requirement already satisfied: pandas in ./venv/lib/python3.12/site-packages (2.2.3)\n",
      "Requirement already satisfied: scikit-learn in ./venv/lib/python3.12/site-packages (1.6.1)\n",
      "Requirement already satisfied: numpy in ./venv/lib/python3.12/site-packages (1.26.4)\n",
      "Requirement already satisfied: matplotlib in ./venv/lib/python3.12/site-packages (3.10.1)\n",
      "Requirement already satisfied: seaborn in ./venv/lib/python3.12/site-packages (0.13.2)\n",
      "Requirement already satisfied: memory_profiler in ./venv/lib/python3.12/site-packages (0.61.0)\n",
      "Requirement already satisfied: setuptools in ./venv/lib/python3.12/site-packages (78.1.0)\n",
      "Requirement already satisfied: python-dateutil>=2.8.2 in ./venv/lib/python3.12/site-packages (from pandas) (2.9.0.post0)\n",
      "Requirement already satisfied: pytz>=2020.1 in ./venv/lib/python3.12/site-packages (from pandas) (2025.1)\n",
      "Requirement already satisfied: tzdata>=2022.7 in ./venv/lib/python3.12/site-packages (from pandas) (2025.2)\n",
      "Requirement already satisfied: scipy>=1.6.0 in ./venv/lib/python3.12/site-packages (from scikit-learn) (1.15.2)\n",
      "Requirement already satisfied: joblib>=1.2.0 in ./venv/lib/python3.12/site-packages (from scikit-learn) (1.4.2)\n",
      "Requirement already satisfied: threadpoolctl>=3.1.0 in ./venv/lib/python3.12/site-packages (from scikit-learn) (3.6.0)\n",
      "Requirement already satisfied: contourpy>=1.0.1 in ./venv/lib/python3.12/site-packages (from matplotlib) (1.3.1)\n",
      "Requirement already satisfied: cycler>=0.10 in ./venv/lib/python3.12/site-packages (from matplotlib) (0.12.1)\n",
      "Requirement already satisfied: fonttools>=4.22.0 in ./venv/lib/python3.12/site-packages (from matplotlib) (4.56.0)\n",
      "Requirement already satisfied: kiwisolver>=1.3.1 in ./venv/lib/python3.12/site-packages (from matplotlib) (1.4.8)\n",
      "Requirement already satisfied: packaging>=20.0 in ./venv/lib/python3.12/site-packages (from matplotlib) (24.2)\n",
      "Requirement already satisfied: pillow>=8 in ./venv/lib/python3.12/site-packages (from matplotlib) (11.1.0)\n",
      "Requirement already satisfied: pyparsing>=2.3.1 in ./venv/lib/python3.12/site-packages (from matplotlib) (3.2.2)\n",
      "Requirement already satisfied: psutil in ./venv/lib/python3.12/site-packages (from memory_profiler) (7.0.0)\n",
      "Requirement already satisfied: six>=1.5 in ./venv/lib/python3.12/site-packages (from python-dateutil>=2.8.2->pandas) (1.17.0)\n",
      "Note: you may need to restart the kernel to use updated packages.\n"
     ]
    }
   ],
   "source": [
    "%pip install pandas scikit-learn numpy matplotlib seaborn memory_profiler setuptools"
   ]
  },
  {
   "cell_type": "code",
   "execution_count": 1,
   "metadata": {},
   "outputs": [],
   "source": [
    "%load_ext memory_profiler"
   ]
  },
  {
   "cell_type": "code",
   "execution_count": 15,
   "metadata": {},
   "outputs": [],
   "source": [
    "import numpy as np\n",
    "from sklearn.metrics import accuracy_score\n",
    "from sklearn.model_selection import GridSearchCV\n",
    "from sklearn.feature_selection import SelectKBest, mutual_info_classif\n",
    "import pandas as pd\n",
    "import seaborn as sns\n",
    "from sklearn.preprocessing import StandardScaler\n",
    "from pandas.errors import SettingWithCopyWarning\n",
    "import warnings\n",
    "import matplotlib.pyplot as plt\n",
    "from sklearn.svm import SVC\n",
    "warnings.simplefilter('ignore', SettingWithCopyWarning)"
   ]
  },
  {
   "cell_type": "code",
   "execution_count": 16,
   "metadata": {},
   "outputs": [],
   "source": [
    "cols = [ 'Day of the week', 'Day of the week_sin', 'Day of the week_cos', 'CarCount', 'BikeCount', 'BusCount', 'Traffic Situation', 'Minute_sin', 'Minute_cos', 'Hour_sin', 'Hour_cos', 'IsDay' ]\n",
    "data = pd.read_csv('./data/raw.csv', index_col=0)[cols]\n",
    "data.head()\n",
    "\n",
    "features = data.drop(columns=['Traffic Situation'])\n",
    "target = data['Traffic Situation']\n",
    "\n",
    "train_size = int(0.8 * len(data))\n",
    "X_train, X_test = features[:train_size], features[train_size:]\n",
    "y_train, y_test = target[:train_size], target[train_size:]"
   ]
  },
  {
   "cell_type": "code",
   "execution_count": 17,
   "metadata": {},
   "outputs": [],
   "source": [
    "cols=['CarCount', 'BikeCount', 'BusCount']\n",
    "scaler = StandardScaler()\n",
    "\n",
    "scaler.fit(X_train[cols])\n",
    "X_train[cols] = scaler.transform(X_train[cols])\n",
    "X_test[cols] = scaler.transform(X_test[cols])"
   ]
  },
  {
   "cell_type": "code",
   "execution_count": 18,
   "metadata": {},
   "outputs": [],
   "source": [
    "lags = 4\n",
    "lag_cols=['CarCount', 'BikeCount', 'BusCount']\n",
    "for col in lag_cols:\n",
    "    for lag in range(1, lags+1):\n",
    "        X_train[f'{col}_lag{lag}'] = X_train[col].shift(lag)\n",
    "        X_test[f'{col}_lag{lag}'] = X_test[col].shift(lag)\n",
    "\n",
    "X_train = X_train.iloc[lags:]\n",
    "y_train = y_train.iloc[lags:]\n",
    "X_test = X_test.iloc[lags:]\n",
    "y_test = y_test.iloc[lags:]\n"
   ]
  },
  {
   "cell_type": "code",
   "execution_count": 19,
   "metadata": {},
   "outputs": [
    {
     "name": "stdout",
     "output_type": "stream",
     "text": [
      "features - ['CarCount']\n",
      "features - ['CarCount' 'BusCount']\n",
      "features - ['CarCount' 'BusCount' 'CarCount_lag1']\n",
      "features - ['CarCount' 'BikeCount' 'BusCount' 'CarCount_lag1']\n",
      "features - ['CarCount' 'BikeCount' 'BusCount' 'Hour_cos' 'CarCount_lag1']\n",
      "features - ['CarCount' 'BikeCount' 'BusCount' 'Hour_cos' 'CarCount_lag1'\n",
      " 'CarCount_lag2']\n",
      "features - ['CarCount' 'BikeCount' 'BusCount' 'Hour_cos' 'CarCount_lag1'\n",
      " 'CarCount_lag2' 'CarCount_lag3']\n",
      "features - ['CarCount' 'BikeCount' 'BusCount' 'Hour_cos' 'CarCount_lag1'\n",
      " 'CarCount_lag2' 'CarCount_lag3' 'BikeCount_lag1']\n",
      "features - ['CarCount' 'BikeCount' 'BusCount' 'Hour_cos' 'CarCount_lag1'\n",
      " 'CarCount_lag2' 'CarCount_lag3' 'BikeCount_lag1' 'BusCount_lag1']\n",
      "features - ['CarCount' 'BikeCount' 'BusCount' 'Hour_cos' 'CarCount_lag1'\n",
      " 'CarCount_lag2' 'CarCount_lag3' 'BikeCount_lag1' 'BikeCount_lag2'\n",
      " 'BusCount_lag1']\n",
      "features - ['CarCount' 'BikeCount' 'BusCount' 'Hour_cos' 'CarCount_lag1'\n",
      " 'CarCount_lag2' 'CarCount_lag3' 'CarCount_lag4' 'BikeCount_lag1'\n",
      " 'BikeCount_lag2' 'BusCount_lag1']\n",
      "features - ['CarCount' 'BikeCount' 'BusCount' 'Hour_cos' 'IsDay' 'CarCount_lag1'\n",
      " 'CarCount_lag2' 'CarCount_lag3' 'BikeCount_lag1' 'BikeCount_lag2'\n",
      " 'BusCount_lag1' 'BusCount_lag2']\n",
      "features - ['CarCount' 'BikeCount' 'BusCount' 'Hour_cos' 'CarCount_lag1'\n",
      " 'CarCount_lag2' 'CarCount_lag3' 'CarCount_lag4' 'BikeCount_lag1'\n",
      " 'BikeCount_lag2' 'BikeCount_lag3' 'BusCount_lag1' 'BusCount_lag3']\n",
      "features - ['CarCount' 'BikeCount' 'BusCount' 'Hour_cos' 'CarCount_lag1'\n",
      " 'CarCount_lag2' 'CarCount_lag3' 'CarCount_lag4' 'BikeCount_lag1'\n",
      " 'BikeCount_lag2' 'BikeCount_lag3' 'BusCount_lag1' 'BusCount_lag2'\n",
      " 'BusCount_lag3']\n",
      "features - ['CarCount' 'BikeCount' 'BusCount' 'Hour_cos' 'IsDay' 'CarCount_lag1'\n",
      " 'CarCount_lag2' 'CarCount_lag3' 'CarCount_lag4' 'BikeCount_lag1'\n",
      " 'BikeCount_lag2' 'BikeCount_lag3' 'BusCount_lag1' 'BusCount_lag2'\n",
      " 'BusCount_lag3']\n",
      "features - ['CarCount' 'BikeCount' 'BusCount' 'Hour_cos' 'IsDay' 'CarCount_lag1'\n",
      " 'CarCount_lag2' 'CarCount_lag3' 'CarCount_lag4' 'BikeCount_lag1'\n",
      " 'BikeCount_lag2' 'BikeCount_lag3' 'BikeCount_lag4' 'BusCount_lag1'\n",
      " 'BusCount_lag2' 'BusCount_lag3']\n",
      "features - ['CarCount' 'BikeCount' 'BusCount' 'Hour_cos' 'IsDay' 'CarCount_lag1'\n",
      " 'CarCount_lag2' 'CarCount_lag3' 'CarCount_lag4' 'BikeCount_lag1'\n",
      " 'BikeCount_lag2' 'BikeCount_lag3' 'BikeCount_lag4' 'BusCount_lag1'\n",
      " 'BusCount_lag2' 'BusCount_lag3' 'BusCount_lag4']\n",
      "features - ['CarCount' 'BikeCount' 'BusCount' 'Hour_sin' 'Hour_cos' 'IsDay'\n",
      " 'CarCount_lag1' 'CarCount_lag2' 'CarCount_lag3' 'CarCount_lag4'\n",
      " 'BikeCount_lag1' 'BikeCount_lag2' 'BikeCount_lag3' 'BikeCount_lag4'\n",
      " 'BusCount_lag1' 'BusCount_lag2' 'BusCount_lag3' 'BusCount_lag4']\n",
      "features - ['Day of the week_sin' 'CarCount' 'BikeCount' 'BusCount' 'Hour_sin'\n",
      " 'Hour_cos' 'IsDay' 'CarCount_lag1' 'CarCount_lag2' 'CarCount_lag3'\n",
      " 'CarCount_lag4' 'BikeCount_lag1' 'BikeCount_lag2' 'BikeCount_lag3'\n",
      " 'BikeCount_lag4' 'BusCount_lag1' 'BusCount_lag2' 'BusCount_lag3'\n",
      " 'BusCount_lag4']\n",
      "features - ['Day of the week_sin' 'CarCount' 'BikeCount' 'BusCount' 'Minute_cos'\n",
      " 'Hour_sin' 'Hour_cos' 'IsDay' 'CarCount_lag1' 'CarCount_lag2'\n",
      " 'CarCount_lag3' 'CarCount_lag4' 'BikeCount_lag1' 'BikeCount_lag2'\n",
      " 'BikeCount_lag3' 'BikeCount_lag4' 'BusCount_lag1' 'BusCount_lag2'\n",
      " 'BusCount_lag3' 'BusCount_lag4']\n",
      "features - ['Day of the week' 'Day of the week_sin' 'CarCount' 'BikeCount' 'BusCount'\n",
      " 'Minute_cos' 'Hour_sin' 'Hour_cos' 'IsDay' 'CarCount_lag1'\n",
      " 'CarCount_lag2' 'CarCount_lag3' 'CarCount_lag4' 'BikeCount_lag1'\n",
      " 'BikeCount_lag2' 'BikeCount_lag3' 'BikeCount_lag4' 'BusCount_lag1'\n",
      " 'BusCount_lag2' 'BusCount_lag3' 'BusCount_lag4']\n",
      "features - ['Day of the week' 'Day of the week_sin' 'Day of the week_cos' 'CarCount'\n",
      " 'BikeCount' 'BusCount' 'Minute_sin' 'Hour_sin' 'Hour_cos' 'IsDay'\n",
      " 'CarCount_lag1' 'CarCount_lag2' 'CarCount_lag3' 'CarCount_lag4'\n",
      " 'BikeCount_lag1' 'BikeCount_lag2' 'BikeCount_lag3' 'BikeCount_lag4'\n",
      " 'BusCount_lag1' 'BusCount_lag2' 'BusCount_lag3' 'BusCount_lag4']\n",
      "features - ['Day of the week' 'Day of the week_sin' 'Day of the week_cos' 'CarCount'\n",
      " 'BikeCount' 'BusCount' 'Minute_sin' 'Minute_cos' 'Hour_sin' 'Hour_cos'\n",
      " 'IsDay' 'CarCount_lag1' 'CarCount_lag2' 'CarCount_lag3' 'CarCount_lag4'\n",
      " 'BikeCount_lag1' 'BikeCount_lag2' 'BikeCount_lag3' 'BikeCount_lag4'\n",
      " 'BusCount_lag1' 'BusCount_lag2' 'BusCount_lag3' 'BusCount_lag4']\n"
     ]
    },
    {
     "data": {
      "image/png": "[encoded data removed]",
      "text/plain": [
       "<Figure size 1000x500 with 1 Axes>"
      ]
     },
     "metadata": {},
     "output_type": "display_data"
    }
   ],
   "source": [
    "feature_range = range(1, len(X_train.columns)  + 1)\n",
    "mean_accuracy_scores = []\n",
    "\n",
    "for k in feature_range:\n",
    "    selector = SelectKBest(score_func=mutual_info_classif, k=k)\n",
    "    selected = selector.fit_transform(X_train, y_train)\n",
    "    \n",
    "    filtered_features = np.array(X_train.columns)[selector.get_support()]\n",
    "    print(f\"features - {filtered_features}\")\n",
    "\n",
    "    model = SVC(\n",
    "        random_state=42,\n",
    "        class_weight='balanced'\n",
    "    )\n",
    "    model.fit(selected, y_train)\n",
    "\n",
    "    test_selected = selector.transform(X_test)\n",
    "\n",
    "    y_pred = model.predict(test_selected)\n",
    "    accuracy = accuracy_score(y_test, y_pred)\n",
    "    mean_accuracy_scores.append(accuracy)\n",
    "\n",
    "plt.figure(figsize=(10, 5))\n",
    "plt.plot(feature_range, mean_accuracy_scores, marker='o', linestyle='-')\n",
    "plt.xlabel(\"Число выбранных признаков\")\n",
    "plt.ylabel(\"Средняя точность (accuracy)\")\n",
    "plt.title(\"Зависимость точности от числа признаков в SelectKBest\")\n",
    "plt.grid(True)\n",
    "plt.show()"
   ]
  },
  {
   "cell_type": "code",
   "execution_count": null,
   "metadata": {},
   "outputs": [
    {
     "name": "stdout",
     "output_type": "stream",
     "text": [
      "Лучшие параметры: {'C': 10, 'gamma': 1}\n"
     ]
    }
   ],
   "source": [
    " \n",
    "\n",
    "param_grid = {\n",
    "    'C': [0.1, 0.5, 1, 2, 5, 10, 100],\n",
    "    'gamma': ['scale', 'auto', 0.1, 0.2, 0.5, 1],\n",
    "}\n",
    "\n",
    "model = SVC(\n",
    "    random_state=42,\n",
    "    class_weight='balanced',\n",
    "    kernel='rbf'\n",
    ")\n",
    "\n",
    "grid_search = GridSearchCV(\n",
    "    estimator=model,\n",
    "    param_grid=param_grid,\n",
    "    cv=5,\n",
    "    scoring='f1_weighted' # accuracy, f1, precision, recall, totalf1\n",
    ")\n",
    "\n",
    "grid_search.fit(X_train[selected], y_train)\n",
    "\n",
    "print(\"Лучшие параметры:\", grid_search.best_params_)\n"
   ]
  },
  {
   "cell_type": "code",
   "execution_count": 22,
   "metadata": {},
   "outputs": [
    {
     "name": "stdout",
     "output_type": "stream",
     "text": [
      "              precision    recall  f1-score   support\n",
      "\n",
      "           0       0.42      0.77      0.55       190\n",
      "           1       0.90      0.55      0.68       638\n",
      "           2       0.39      0.77      0.52        79\n",
      "           3       0.92      0.98      0.95       280\n",
      "\n",
      "    accuracy                           0.70      1187\n",
      "   macro avg       0.66      0.77      0.67      1187\n",
      "weighted avg       0.80      0.70      0.71      1187\n",
      "\n",
      "Confusion Matrix:\n",
      "[[147  30  13   0]\n",
      " [194 350  76  18]\n",
      " [  6   6  61   6]\n",
      " [  0   1   5 274]]\n"
     ]
    }
   ],
   "source": [
    "from sklearn.metrics import classification_report, confusion_matrix\n",
    "\n",
    "selected = ['CarCount', 'BikeCount', 'BusCount', 'Hour_cos', 'CarCount_lag1' ]\n",
    "\n",
    "model = SVC(\n",
    "    random_state=42,\n",
    "    class_weight='balanced',\n",
    "    C=10,\n",
    "    gamma=1,\n",
    "    kernel='rbf'\n",
    ")\n",
    "model.fit(X_train[selected], y_train)\n",
    "\n",
    "y_pred = model.predict(X_test[selected])\n",
    "\n",
    "print(classification_report(y_test, y_pred))\n",
    "print(\"Confusion Matrix:\")\n",
    "print(confusion_matrix(y_test, y_pred))"
   ]
  }
 ],
 "metadata": {
  "kernelspec": {
   "display_name": "venv",
   "language": "python",
   "name": "python3"
  },
  "language_info": {
   "codemirror_mode": {
    "name": "ipython",
    "version": 3
   },
   "file_extension": ".py",
   "mimetype": "text/x-python",
   "name": "python",
   "nbconvert_exporter": "python",
   "pygments_lexer": "ipython3",
   "version": "3.12.7"
  }
 },
 "nbformat": 4,
 "nbformat_minor": 2
}
